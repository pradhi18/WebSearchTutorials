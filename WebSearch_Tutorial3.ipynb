{
  "nbformat": 4,
  "nbformat_minor": 0,
  "metadata": {
    "colab": {
      "name": "WebSearch_Tutorial3.ipynb",
      "provenance": [],
      "authorship_tag": "ABX9TyMdUeOoQHOgyQwk1PuUg4Ep",
      "include_colab_link": true
    },
    "kernelspec": {
      "name": "python3",
      "display_name": "Python 3"
    },
    "language_info": {
      "name": "python"
    }
  },
  "cells": [
    {
      "cell_type": "markdown",
      "metadata": {
        "id": "view-in-github",
        "colab_type": "text"
      },
      "source": [
        "<a href=\"https://colab.research.google.com/github/pradhi18/WebSearchTutorials/blob/main/WebSearch_Tutorial3.ipynb\" target=\"_parent\"><img src=\"https://colab.research.google.com/assets/colab-badge.svg\" alt=\"Open In Colab\"/></a>"
      ]
    },
    {
      "cell_type": "code",
      "metadata": {
        "colab": {
          "base_uri": "https://localhost:8080/"
        },
        "id": "6isFgB2Cwe9d",
        "outputId": "4f9f70f9-9290-4f90-cd7a-434d5adf5656"
      },
      "source": [
        "#importing libraries\n",
        "import pandas as pd\n",
        "from sklearn.feature_extraction.text import TfidfVectorizer\n",
        "import math\n",
        "import numpy as np\n",
        "#input from user\n",
        "n=int(input(\"Enter the number of documents\"))"
      ],
      "execution_count": 12,
      "outputs": [
        {
          "output_type": "stream",
          "text": [
            "Enter the number of documents2\n"
          ],
          "name": "stdout"
        }
      ]
    },
    {
      "cell_type": "code",
      "metadata": {
        "colab": {
          "base_uri": "https://localhost:8080/"
        },
        "id": "4pW_vUGmwnZC",
        "outputId": "301820bb-2da2-4f14-f214-867772907789"
      },
      "source": [
        "#  Information Retrieval (IR) can be defined as a software program that deals with the organization, storage, retrieval, and evaluation of information from document repositories, particularly textual information. Information Retrieval is the activity of obtaining material that can usually be documented on an unstructured nature i.e. usually text which satisfies an information need from within large collections which is stored on computers. \n",
        "#  Information Retrieval is understood as a fully automatic process that responds to a user query by examining a collection of documents and returning a sorted document list that should be relevant to the user requirements as expressed in the query.\n",
        "\n",
        "lis=[]\n",
        "for i in range(0,n):\n",
        "  doc=input(\" Enter the document \")\n",
        "  lis.append(doc)"
      ],
      "execution_count": 13,
      "outputs": [
        {
          "output_type": "stream",
          "text": [
            " Enter the document Information Retrieval (IR) can be defined as a software program that deals with the organization, storage, retrieval, and evaluation of information from document repositories, particularly textual information. Information Retrieval is the activity of obtaining material that can usually be documented on an unstructured nature i.e. usually text which satisfies an information need from within large collections which is stored on computers.\n",
            " Enter the document Information Retrieval is understood as a fully automatic process that responds to a user query by examining a collection of documents and returning a sorted document list that should be relevant to the user requirements as expressed in the query.\n"
          ],
          "name": "stdout"
        }
      ]
    },
    {
      "cell_type": "code",
      "metadata": {
        "colab": {
          "base_uri": "https://localhost:8080/"
        },
        "id": "of3tHX2Gxiyq",
        "outputId": "05801bbb-08dd-4646-85af-577f308a6bb1"
      },
      "source": [
        "#Term incidence matrix\n",
        "my_dict= {}\n",
        "for i in range(0,len(lis)):\n",
        "  lis2=[]\n",
        "  for j in range(0,len(lis[i].split())):\n",
        "    lis2.append(lis[i].split()[j])\n",
        "  my_dict[i+1]=([lis[i]])\n",
        "df=pd.DataFrame(my_dict)\n",
        "vectorizer = TfidfVectorizer()\n",
        "doc_vec = vectorizer.fit_transform(df.iloc[0])\n",
        "df2 = pd.DataFrame(doc_vec.toarray().transpose(),index=vectorizer.get_feature_names())\n",
        "for i in range(0,df2.columns.stop):\n",
        "  lis3=[]\n",
        "  for j in range(0,len(df2[i])):\n",
        "    lis3.append(math.ceil(df2[i][j]))\n",
        "  df2[i]=lis3\n",
        "for i in range(0,df2.columns.stop):\n",
        "  df2=df2.rename(columns={i:\"Doc\"+str(i+1)})\n",
        "print(\"Incidence matrix : \")\n",
        "print(df2)\n",
        "a_dict={}"
      ],
      "execution_count": 14,
      "outputs": [
        {
          "output_type": "stream",
          "text": [
            "Incidence matrix : \n",
            "           Doc1  Doc2\n",
            "activity      1     0\n",
            "an            1     0\n",
            "and           1     1\n",
            "as            1     1\n",
            "automatic     0     1\n",
            "...         ...   ...\n",
            "user          0     1\n",
            "usually       1     0\n",
            "which         1     0\n",
            "with          1     0\n",
            "within        1     0\n",
            "\n",
            "[62 rows x 2 columns]\n"
          ],
          "name": "stdout"
        }
      ]
    },
    {
      "cell_type": "code",
      "metadata": {
        "id": "X_89YGEqx5EG"
      },
      "source": [
        "#Query processing for term incidence matrix\n",
        "doc_term_matrix={}\n",
        "for term in lis2:\n",
        "  doc_term_matrix[term]=[]\n",
        "  for doc in lis:\n",
        "    if term in doc:\n",
        "      doc_term_matrix[term].append(1)\n",
        "    else: doc_term_matrix[term].append(0)\n",
        "def query_process(query):\n",
        "  for i in range(0,len(query.split())):\n",
        "    if query.split()[i]==\"AND\":\n",
        "      v1=np.array(doc_term_matrix[query.split()[i-1]])\n",
        "      v2=np.array(doc_term_matrix[query.split()[i+1]])\n",
        "      ans=v1 & v2\n",
        "    elif query.split()[i]==\"OR\":\n",
        "      v1=np.array(doc_term_matrix[query.split()[i-1]])\n",
        "      v2=np.array(doc_term_matrix[query.split()[i+1]])\n",
        "      ans=v1 | v2\n",
        "    elif query.split()[i]==\"NOT\":\n",
        "      ans=[]\n",
        "      for i in doc_term_matrix[query.split()[i+1]]:\n",
        "        ans.append(not i)\n",
        "  docs=[]\n",
        "  for i in range(0,len(ans)):\n",
        "    if ans[i]==1 or ans[i]==True:\n",
        "      docs.append(i+1)\n",
        "  print(docs)"
      ],
      "execution_count": 21,
      "outputs": []
    },
    {
      "cell_type": "code",
      "metadata": {
        "colab": {
          "base_uri": "https://localhost:8080/"
        },
        "id": "gsR1-vVvyILF",
        "outputId": "5901c1c6-5a0b-4322-a08d-808dfc8a0796"
      },
      "source": [
        "query_process(\"Information AND document\")"
      ],
      "execution_count": 26,
      "outputs": [
        {
          "output_type": "stream",
          "text": [
            "[1, 2]\n"
          ],
          "name": "stdout"
        }
      ]
    },
    {
      "cell_type": "code",
      "metadata": {
        "colab": {
          "base_uri": "https://localhost:8080/"
        },
        "id": "4RilfYEUy1qd",
        "outputId": "d9841c26-d093-4497-92ff-a2a3969cf560"
      },
      "source": [
        "query_process(\"user OR automatic\")"
      ],
      "execution_count": 28,
      "outputs": [
        {
          "output_type": "stream",
          "text": [
            "[2]\n"
          ],
          "name": "stdout"
        }
      ]
    },
    {
      "cell_type": "code",
      "metadata": {
        "colab": {
          "base_uri": "https://localhost:8080/"
        },
        "id": "3TrY7C8C0JUH",
        "outputId": "d5d80ce7-be65-43e0-ea0d-dd15d5abd882"
      },
      "source": [
        "query_process(\"NOT document\")"
      ],
      "execution_count": 29,
      "outputs": [
        {
          "output_type": "stream",
          "text": [
            "[]\n"
          ],
          "name": "stdout"
        }
      ]
    },
    {
      "cell_type": "code",
      "metadata": {
        "colab": {
          "base_uri": "https://localhost:8080/"
        },
        "id": "HORyIZ1c0LRg",
        "outputId": "fb02c6c6-e335-492d-ee15-1ad0d3f51336"
      },
      "source": [
        "#Inverted index\n",
        "for i in range(0,len(lis)):\n",
        "  for j in range(0,len(lis[i].split())):\n",
        "    ind=lis[i].split()[j]\n",
        "    if ind not in a_dict:\n",
        "      a_dict[ind]=[]\n",
        "      if ind in a_dict:\n",
        "        if i+1 not in a_dict[ind]:\n",
        "          a_dict[ind].append(i+1)\n",
        "print(\"Inverted Index : \")\n",
        "a_dict"
      ],
      "execution_count": 31,
      "outputs": [
        {
          "output_type": "stream",
          "text": [
            "Inverted Index : \n"
          ],
          "name": "stdout"
        },
        {
          "output_type": "execute_result",
          "data": {
            "text/plain": [
              "{'(IR)': [1],\n",
              " 'Information': [1],\n",
              " 'Retrieval': [1],\n",
              " 'a': [1],\n",
              " 'activity': [1],\n",
              " 'an': [1],\n",
              " 'and': [1],\n",
              " 'as': [1],\n",
              " 'automatic': [2],\n",
              " 'be': [1],\n",
              " 'by': [2],\n",
              " 'can': [1],\n",
              " 'collection': [2],\n",
              " 'collections': [1],\n",
              " 'computers.': [1],\n",
              " 'deals': [1],\n",
              " 'defined': [1],\n",
              " 'document': [1],\n",
              " 'documented': [1],\n",
              " 'documents': [2],\n",
              " 'evaluation': [1],\n",
              " 'examining': [2],\n",
              " 'expressed': [2],\n",
              " 'from': [1],\n",
              " 'fully': [2],\n",
              " 'i.e.': [1],\n",
              " 'in': [2],\n",
              " 'information': [1],\n",
              " 'information.': [1],\n",
              " 'is': [1],\n",
              " 'large': [1],\n",
              " 'list': [2],\n",
              " 'material': [1],\n",
              " 'nature': [1],\n",
              " 'need': [1],\n",
              " 'obtaining': [1],\n",
              " 'of': [1],\n",
              " 'on': [1],\n",
              " 'organization,': [1],\n",
              " 'particularly': [1],\n",
              " 'process': [2],\n",
              " 'program': [1],\n",
              " 'query': [2],\n",
              " 'query.': [2],\n",
              " 'relevant': [2],\n",
              " 'repositories,': [1],\n",
              " 'requirements': [2],\n",
              " 'responds': [2],\n",
              " 'retrieval,': [1],\n",
              " 'returning': [2],\n",
              " 'satisfies': [1],\n",
              " 'should': [2],\n",
              " 'software': [1],\n",
              " 'sorted': [2],\n",
              " 'storage,': [1],\n",
              " 'stored': [1],\n",
              " 'text': [1],\n",
              " 'textual': [1],\n",
              " 'that': [1],\n",
              " 'the': [1],\n",
              " 'to': [2],\n",
              " 'understood': [2],\n",
              " 'unstructured': [1],\n",
              " 'user': [2],\n",
              " 'usually': [1],\n",
              " 'which': [1],\n",
              " 'with': [1],\n",
              " 'within': [1]}"
            ]
          },
          "metadata": {
            "tags": []
          },
          "execution_count": 31
        }
      ]
    },
    {
      "cell_type": "code",
      "metadata": {
        "colab": {
          "base_uri": "https://localhost:8080/"
        },
        "id": "vVSPE38x09vl",
        "outputId": "823ea94f-6de3-4170-8387-c29e7f8ae81f"
      },
      "source": [
        "#Query processing for inverted index\n",
        "query1 = \"JInformation OR document\"\n",
        "v1 = np.array(a_dict[\"Information\"])\n",
        "v2 = np.array(a_dict[\"document\"])\n",
        "v3=[]\n",
        "for i in v1:\n",
        "  if i not in v3:\n",
        "    v3.append(i)\n",
        "for i in v2:\n",
        "  if i not in v3:\n",
        "    v3.append(i)\n",
        "v3"
      ],
      "execution_count": 34,
      "outputs": [
        {
          "output_type": "execute_result",
          "data": {
            "text/plain": [
              "[1]"
            ]
          },
          "metadata": {
            "tags": []
          },
          "execution_count": 34
        }
      ]
    },
    {
      "cell_type": "code",
      "metadata": {
        "colab": {
          "base_uri": "https://localhost:8080/"
        },
        "id": "iST-xkab1LtJ",
        "outputId": "c2991313-1770-466a-d1b4-cff9bccc5aa2"
      },
      "source": [
        "query2 = \"Information AND document\"\n",
        "v1 = np.array(a_dict[\"document\"])\n",
        "v2 = np.array(a_dict[\"Information\"])\n",
        "v3=[]\n",
        "for i in v1:\n",
        "  if i in v2:\n",
        "    v3.append(i)\n",
        "v3"
      ],
      "execution_count": 39,
      "outputs": [
        {
          "output_type": "execute_result",
          "data": {
            "text/plain": [
              "[1]"
            ]
          },
          "metadata": {
            "tags": []
          },
          "execution_count": 39
        }
      ]
    },
    {
      "cell_type": "code",
      "metadata": {
        "colab": {
          "base_uri": "https://localhost:8080/"
        },
        "id": "1z1Wz9iE1xMg",
        "outputId": "e15ae45e-07f1-4ab2-eecd-2f11c010f52d"
      },
      "source": [
        "query3 = \"NOT document\"\n",
        "v1 = np.array(a_dict[\"document\"])\n",
        "v3=[]\n",
        "for i in range(1,3):\n",
        "  if i not in v1:\n",
        "    v3.append(i)\n",
        "v3"
      ],
      "execution_count": 42,
      "outputs": [
        {
          "output_type": "execute_result",
          "data": {
            "text/plain": [
              "[2]"
            ]
          },
          "metadata": {
            "tags": []
          },
          "execution_count": 42
        }
      ]
    },
    {
      "cell_type": "code",
      "metadata": {
        "colab": {
          "base_uri": "https://localhost:8080/"
        },
        "id": "xOYjyXbq2bKQ",
        "outputId": "c9f2eb3d-81b0-4556-b5b9-74dd96bf056e"
      },
      "source": [
        "#query optimization for inverted index\n",
        "query=\"Information OR and AND document OR collection\" #sorting index of words according to frequency \n",
        "q_dict={}\n",
        "index=0\n",
        "for i in range(0,len(query.split())): \n",
        "  if(query.split()[i]!=\"AND\" and query.split()[i]!=\"OR\" and query.split()[i]!=\"NOT\"): \n",
        "    length=len(a_dict[query.split()[i]]) \n",
        "    if length not in q_dict:\n",
        "      q_dict[length]=[]\n",
        "      q_dict[length].append(i)\n",
        "import collections \n",
        "q_dict=collections.OrderedDict(sorted(q_dict.items())) \n",
        "q_dict"
      ],
      "execution_count": 48,
      "outputs": [
        {
          "output_type": "execute_result",
          "data": {
            "text/plain": [
              "OrderedDict([(1, [0])])"
            ]
          },
          "metadata": {
            "tags": []
          },
          "execution_count": 48
        }
      ]
    },
    {
      "cell_type": "code",
      "metadata": {
        "colab": {
          "base_uri": "https://localhost:8080/"
        },
        "id": "7vsaRNko2-Ws",
        "outputId": "c749bbce-3b91-4631-ecea-64cb1f81b47b"
      },
      "source": [
        "flag=0\n",
        "visited=[]\n",
        "v4=[]\n",
        "for key in q_dict:\n",
        "  for j in q_dict[key]:\n",
        "    ind=j\n",
        "    if j not in visited:\n",
        "      v1=np.array(a_dict[query.split()[j]])\n",
        "      v2=np.array(a_dict[query.split()[j+2]])\n",
        "      if flag==1:\n",
        "        for i in v1:\n",
        "          if i not in v3:\n",
        "            v4.append(i)\n",
        "          for i in v2:\n",
        "            if i not in v3:\n",
        "              v4.append(i)\n",
        "      else:\n",
        "        v3=[]\n",
        "        for i in v1:\n",
        "          if i not in v3:\n",
        "            v3.append(i)\n",
        "        for i in v2:\n",
        "          if i not in v3:\n",
        "            v3.append(i)\n",
        "        visited.append(j)\n",
        "        visited.append(j+2)\n",
        "ans=[]\n",
        "for i in v3:\n",
        "  if i in v4:\n",
        "    ans.append(i)\n",
        "ans"
      ],
      "execution_count": 50,
      "outputs": [
        {
          "output_type": "execute_result",
          "data": {
            "text/plain": [
              "[]"
            ]
          },
          "metadata": {
            "tags": []
          },
          "execution_count": 50
        }
      ]
    },
    {
      "cell_type": "code",
      "metadata": {
        "id": "k15iqOKK4nXF"
      },
      "source": [
        ""
      ],
      "execution_count": null,
      "outputs": []
    }
  ]
}