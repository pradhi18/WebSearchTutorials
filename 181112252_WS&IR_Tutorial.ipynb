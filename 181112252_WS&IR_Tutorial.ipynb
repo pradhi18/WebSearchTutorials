{
  "nbformat": 4,
  "nbformat_minor": 0,
  "metadata": {
    "colab": {
      "name": "181112252_WS&IR_Tutorial.ipynb",
      "provenance": [],
      "authorship_tag": "ABX9TyNBcdnoZ0Dak2f2y0HWnyDX",
      "include_colab_link": true
    },
    "kernelspec": {
      "name": "python3",
      "display_name": "Python 3"
    },
    "language_info": {
      "name": "python"
    }
  },
  "cells": [
    {
      "cell_type": "markdown",
      "metadata": {
        "id": "view-in-github",
        "colab_type": "text"
      },
      "source": [
        "<a href=\"https://colab.research.google.com/github/pradhi18/WebSearchTutorials/blob/main/181112252_WS%26IR_Tutorial.ipynb\" target=\"_parent\"><img src=\"https://colab.research.google.com/assets/colab-badge.svg\" alt=\"Open In Colab\"/></a>"
      ]
    },
    {
      "cell_type": "markdown",
      "metadata": {
        "id": "KZk5yCaKHIp4"
      },
      "source": [
        ""
      ]
    },
    {
      "cell_type": "code",
      "metadata": {
        "id": "m36sjYXKFfnR"
      },
      "source": [
        "#importing libraries\n",
        "import pandas as pd\n",
        "from sklearn.feature_extraction.text import TfidfVectorizer\n",
        "import math"
      ],
      "execution_count": null,
      "outputs": []
    },
    {
      "cell_type": "code",
      "metadata": {
        "colab": {
          "base_uri": "https://localhost:8080/"
        },
        "id": "5K8l-8SGFgYt",
        "outputId": "e8d8492d-f988-4e47-dd3d-03b9fe84012c"
      },
      "source": [
        "#input from user\n",
        "n=int(input(\"Enter the number of documents \"))"
      ],
      "execution_count": null,
      "outputs": [
        {
          "output_type": "stream",
          "text": [
            "Enter the number of documents 2\n"
          ],
          "name": "stdout"
        }
      ]
    },
    {
      "cell_type": "code",
      "metadata": {
        "colab": {
          "base_uri": "https://localhost:8080/"
        },
        "id": "fx2CKvG7FjvN",
        "outputId": "77a2b5b8-273b-427b-921c-e661ed47605e"
      },
      "source": [
        "lis=[]\n",
        "for i in range(0,n):\n",
        "    doc=input(\" Enter the document \")\n",
        "    lis.append(doc)"
      ],
      "execution_count": null,
      "outputs": [
        {
          "output_type": "stream",
          "text": [
            " Enter the document Information Retrieval (IR) can be defined as a software program that deals with the organization, storage, retrieval, and evaluation of information from document repositories, particularly textual information. Information Retrieval is the activity of obtaining material that can usually be documented on an unstructured nature i.e. usually text which satisfies an information need from within large collections which is stored on computers. \n",
            " Enter the document Information Retrieval is understood as a fully automatic process that responds to a user query by examining a collection of documents and returning a sorted document list that should be relevant to the user requirements as expressed in the query.\n"
          ],
          "name": "stdout"
        }
      ]
    },
    {
      "cell_type": "code",
      "metadata": {
        "colab": {
          "base_uri": "https://localhost:8080/"
        },
        "id": "zDCZG2TzFnGU",
        "outputId": "be6dbfe0-2a41-454f-808b-66aa61e1e652"
      },
      "source": [
        "#Term incidence matrix\n",
        "my_dict= {}\n",
        "for i in range(0,len(lis)):\n",
        "    lis2=[]\n",
        "    for j in range(0,len(lis[i].split())):\n",
        "        lis2.append(lis[i].split()[j])\n",
        "    my_dict[i+1]=([lis[i]])\n",
        "df=pd.DataFrame(my_dict)\n",
        "vectorizer = TfidfVectorizer()\n",
        "doc_vec = vectorizer.fit_transform(df.iloc[0])\n",
        "df2 = pd.DataFrame(doc_vec.toarray().transpose(),index=vectorizer.get_feature_names())\n",
        "for i in range(0,df2.columns.stop):\n",
        "    lis3=[]\n",
        "    for j in range(0,len(df2[i])):\n",
        "        lis3.append(math.ceil(df2[i][j]))\n",
        "    df2[i]=lis3\n",
        "for i in range(0,df2.columns.stop):\n",
        "    df2=df2.rename(columns={i:\"Doc\"+str(i+1)})\n",
        "print(\"Incidence matrix : \")\n",
        "print(df2)\n",
        "a_dict={}"
      ],
      "execution_count": null,
      "outputs": [
        {
          "output_type": "stream",
          "text": [
            "Incidence matrix : \n",
            "           Doc1  Doc2\n",
            "activity      1     0\n",
            "an            1     0\n",
            "and           1     1\n",
            "as            1     1\n",
            "automatic     0     1\n",
            "...         ...   ...\n",
            "user          0     1\n",
            "usually       1     0\n",
            "which         1     0\n",
            "with          1     0\n",
            "within        1     0\n",
            "\n",
            "[62 rows x 2 columns]\n"
          ],
          "name": "stdout"
        }
      ]
    },
    {
      "cell_type": "code",
      "metadata": {
        "colab": {
          "base_uri": "https://localhost:8080/"
        },
        "id": "iICrzgGOF8iW",
        "outputId": "4794bbdb-9850-4dfe-cb40-ea3f1607403d"
      },
      "source": [
        "#Inverted index\n",
        "for i in range(0,len(lis)):\n",
        "    for j in range(0,len(lis[i].split())):\n",
        "        ind=lis[i].split()[j]\n",
        "        if ind not in a_dict:\n",
        "            a_dict[ind]=[]\n",
        "            if ind in a_dict:\n",
        "                if i+1 not in a_dict[ind]:\n",
        "                    a_dict[ind].append(i+1)\n",
        "print(\"Inverted Index : \")\n",
        "a_dict"
      ],
      "execution_count": null,
      "outputs": [
        {
          "output_type": "stream",
          "text": [
            "Inverted Index : \n"
          ],
          "name": "stdout"
        },
        {
          "output_type": "execute_result",
          "data": {
            "text/plain": [
              "{'(IR)': [1],\n",
              " 'Information': [1],\n",
              " 'Retrieval': [1],\n",
              " 'a': [1],\n",
              " 'activity': [1],\n",
              " 'an': [1],\n",
              " 'and': [1],\n",
              " 'as': [1],\n",
              " 'automatic': [2],\n",
              " 'be': [1],\n",
              " 'by': [2],\n",
              " 'can': [1],\n",
              " 'collection': [2],\n",
              " 'collections': [1],\n",
              " 'computers.': [1],\n",
              " 'deals': [1],\n",
              " 'defined': [1],\n",
              " 'document': [1],\n",
              " 'documented': [1],\n",
              " 'documents': [2],\n",
              " 'evaluation': [1],\n",
              " 'examining': [2],\n",
              " 'expressed': [2],\n",
              " 'from': [1],\n",
              " 'fully': [2],\n",
              " 'i.e.': [1],\n",
              " 'in': [2],\n",
              " 'information': [1],\n",
              " 'information.': [1],\n",
              " 'is': [1],\n",
              " 'large': [1],\n",
              " 'list': [2],\n",
              " 'material': [1],\n",
              " 'nature': [1],\n",
              " 'need': [1],\n",
              " 'obtaining': [1],\n",
              " 'of': [1],\n",
              " 'on': [1],\n",
              " 'organization,': [1],\n",
              " 'particularly': [1],\n",
              " 'process': [2],\n",
              " 'program': [1],\n",
              " 'query': [2],\n",
              " 'query.': [2],\n",
              " 'relevant': [2],\n",
              " 'repositories,': [1],\n",
              " 'requirements': [2],\n",
              " 'responds': [2],\n",
              " 'retrieval,': [1],\n",
              " 'returning': [2],\n",
              " 'satisfies': [1],\n",
              " 'should': [2],\n",
              " 'software': [1],\n",
              " 'sorted': [2],\n",
              " 'storage,': [1],\n",
              " 'stored': [1],\n",
              " 'text': [1],\n",
              " 'textual': [1],\n",
              " 'that': [1],\n",
              " 'the': [1],\n",
              " 'to': [2],\n",
              " 'understood': [2],\n",
              " 'unstructured': [1],\n",
              " 'user': [2],\n",
              " 'usually': [1],\n",
              " 'which': [1],\n",
              " 'with': [1],\n",
              " 'within': [1]}"
            ]
          },
          "metadata": {
            "tags": []
          },
          "execution_count": 5
        }
      ]
    },
    {
      "cell_type": "code",
      "metadata": {
        "id": "elRLZD9PGAiR"
      },
      "source": [
        ""
      ],
      "execution_count": null,
      "outputs": []
    }
  ]
}